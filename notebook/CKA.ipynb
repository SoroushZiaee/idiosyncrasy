{
 "cells": [
  {
   "cell_type": "code",
   "execution_count": 1,
   "id": "01727663-8216-4af8-bc9d-ddb4c8ba2d25",
   "metadata": {},
   "outputs": [],
   "source": [
    "%load_ext autoreload\n",
    "%autoreload 2"
   ]
  },
  {
   "cell_type": "code",
   "execution_count": 2,
   "id": "5bec0474-5299-44b8-820b-cf8c63253ebf",
   "metadata": {},
   "outputs": [],
   "source": [
    "import sys\n",
    "\n",
    "if \"..\" not in sys.path:\n",
    "    sys.path.append(\"..\")"
   ]
  },
  {
   "cell_type": "code",
   "execution_count": 3,
   "id": "516bac6f-74e6-4470-a1f5-1dbe8c34ac28",
   "metadata": {},
   "outputs": [],
   "source": [
    "import torch\n",
    "import numpy as np\n",
    "from CKA import CKA, CudaCKA\n",
    "from cka_reg.losses import LogCenteredKernelAlignment\n",
    "\n",
    "def log_cka(X):\n",
    "    return torch.log(1 - X)\n",
    "\n",
    "device = torch.device('cuda:0')\n",
    "# device = torch.device('cpu')\n",
    "\n",
    "cuda_cka = CudaCKA(device)"
   ]
  },
  {
   "cell_type": "code",
   "execution_count": 4,
   "id": "0d50d2aa-b856-4b09-9335-85a3724a63d4",
   "metadata": {},
   "outputs": [],
   "source": [
    "X = torch.randn(10000, 94, device=device)\n",
    "Y = torch.randn(10000, 100352, device=device)"
   ]
  },
  {
   "cell_type": "code",
   "execution_count": 5,
   "id": "c847f4d3-d02e-4813-bb62-c791f13f7a90",
   "metadata": {},
   "outputs": [
    {
     "name": "stdout",
     "output_type": "stream",
     "text": [
      "output = tensor(-0.0966, device='cuda:0')\n",
      "loss = tensor(-0.0966, device='cuda:0')\n",
      "output = tensor(-inf, device='cuda:0')\n",
      "loss = tensor(-inf, device='cuda:0')\n"
     ]
    }
   ],
   "source": [
    "neural_loss = LogCenteredKernelAlignment()\n",
    "\n",
    "loss = neural_loss(X, Y)\n",
    "print(f\"{loss = }\")\n",
    "loss = neural_loss(X, X)\n",
    "print(f\"{loss = }\")"
   ]
  },
  {
   "cell_type": "code",
   "execution_count": null,
   "id": "d660dce7-8438-4fd9-b022-40c16494dca6",
   "metadata": {},
   "outputs": [],
   "source": [
    "%%time\n",
    "\n",
    "print('Linear CKA, between X and Y: {}'.format(log_cka(cuda_cka.linear_CKA(X, Y))))\n",
    "print('Linear CKA, between X and X: {}'.format(log_cka(cuda_cka.linear_CKA(X, X))))"
   ]
  },
  {
   "cell_type": "code",
   "execution_count": null,
   "id": "f1f52b75-1746-4c5a-995e-4bcb0e606263",
   "metadata": {},
   "outputs": [],
   "source": [
    "%time\n",
    "\n",
    "print('RBF Kernel CKA, between X and Y: {}'.format(log_cka(cuda_cka.kernel_CKA(X, Y))))\n",
    "print('RBF Kernel CKA, between X and X: {}'.format(log_cka(cuda_cka.kernel_CKA(X, X))))"
   ]
  },
  {
   "cell_type": "code",
   "execution_count": 6,
   "id": "e4c388e2-e99c-43ef-a686-e61e4010279d",
   "metadata": {},
   "outputs": [],
   "source": [
    "def CKA(X, Y):\n",
    "    return frobdot(X, Y) ** 2 / (frobdot(X, X) * frobdot(Y, Y))\n",
    "\n",
    "# Older version\n",
    "def frobdot(X, Y):\n",
    "    print(f\"{X.size() = }\")\n",
    "    print(f\"{Y.size() = }\")\n",
    "    \n",
    "    return torch.norm(torch.matmul(Y.t(), X), p=\"fro\")\n",
    "\n",
    "X = torch.randn(100, 94, device=device)\n",
    "Y = torch.randn(100, 100352, device=device)"
   ]
  },
  {
   "cell_type": "code",
   "execution_count": 11,
   "id": "f66fe3ac-3037-41be-b93b-dbe631583d81",
   "metadata": {},
   "outputs": [
    {
     "name": "stdout",
     "output_type": "stream",
     "text": [
      "X.size() = torch.Size([100, 100352])\n",
      "Y.size() = torch.Size([100, 100352])\n",
      "X.size() = torch.Size([100, 100352])\n",
      "Y.size() = torch.Size([100, 100352])\n",
      "X.size() = torch.Size([100, 100352])\n",
      "Y.size() = torch.Size([100, 100352])\n",
      "output = tensor(0., device='cuda:0')\n"
     ]
    }
   ],
   "source": [
    "output = 1 - CKA(Y, Y)\n",
    "print(f\"{output = }\")"
   ]
  },
  {
   "cell_type": "code",
   "execution_count": null,
   "id": "05f46b4c-1010-431d-8194-31ac9c4d2d44",
   "metadata": {},
   "outputs": [],
   "source": [
    "neural_loss = LogCenteredKernelAlignment()\n",
    "\n",
    "loss = neural_loss(X, Y)\n",
    "print(f\"{loss = }\")\n",
    "loss = neural_loss(X, X)\n",
    "print(f\"{loss = }\")"
   ]
  },
  {
   "cell_type": "code",
   "execution_count": null,
   "id": "fd296cb2-1bc4-4cb6-8e2c-4c4fbfbab476",
   "metadata": {},
   "outputs": [],
   "source": [
    "log_cka(cuda_cka.linear_CKA(X, Y))"
   ]
  },
  {
   "cell_type": "code",
   "execution_count": null,
   "id": "574ff288-033b-4343-b217-cb06d9402c8f",
   "metadata": {},
   "outputs": [],
   "source": [
    "# Assuming X and Y are your tensors\n",
    "del X, Y, loss, output,   # Remove tensors to free memory"
   ]
  },
  {
   "cell_type": "code",
   "execution_count": null,
   "id": "5f50a32f-e6eb-4340-9af5-db9b98c2f81b",
   "metadata": {},
   "outputs": [],
   "source": [
    "torch.cuda.empty_cache()"
   ]
  }
 ],
 "metadata": {
  "kernelspec": {
   "display_name": "Python 3 (ipykernel)",
   "language": "python",
   "name": "python3"
  },
  "language_info": {
   "codemirror_mode": {
    "name": "ipython",
    "version": 3
   },
   "file_extension": ".py",
   "mimetype": "text/x-python",
   "name": "python",
   "nbconvert_exporter": "python",
   "pygments_lexer": "ipython3",
   "version": "3.11.5"
  }
 },
 "nbformat": 4,
 "nbformat_minor": 5
}
