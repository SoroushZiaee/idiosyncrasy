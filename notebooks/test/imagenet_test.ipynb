{
 "cells": [
  {
   "cell_type": "code",
   "execution_count": 3,
   "metadata": {},
   "outputs": [
    {
     "name": "stdout",
     "output_type": "stream",
     "text": [
      "The autoreload extension is already loaded. To reload it, use:\n",
      "  %reload_ext autoreload\n"
     ]
    }
   ],
   "source": [
    "%load_ext autoreload\n",
    "%autoreload 2"
   ]
  },
  {
   "cell_type": "code",
   "execution_count": 4,
   "metadata": {
    "editable": true,
    "slideshow": {
     "slide_type": ""
    },
    "tags": []
   },
   "outputs": [
    {
     "name": "stdout",
     "output_type": "stream",
     "text": [
      "script_dir = '/lustre06/project/6067616/soroush1/idiosyncrasy/notebooks'\n",
      "parent_dir = '/lustre06/project/6067616/soroush1/idiosyncrasy'\n"
     ]
    },
    {
     "name": "stderr",
     "output_type": "stream",
     "text": [
      "2025-01-22 18:31:15,355 - INFO - ImageNet module loaded.\n"
     ]
    }
   ],
   "source": [
    "import sys\n",
    "import os\n",
    "\n",
    "# Add the parent directory to the Python path\n",
    "script_dir = os.path.dirname(os.getcwd())  # Get the directory where the script is located\n",
    "parent_dir = os.path.dirname(script_dir)  # Get the parent directory\n",
    "\n",
    "print(f\"{script_dir = }\")\n",
    "print(f\"{parent_dir = }\")\n",
    "\n",
    "sys.path.append(parent_dir)\n",
    "\n",
    "from cka_reg.datamodules.imagenet_datamodule import ImagenetDataModule"
   ]
  },
  {
   "cell_type": "code",
   "execution_count": 5,
   "metadata": {
    "editable": true,
    "slideshow": {
     "slide_type": "subslide"
    },
    "tags": []
   },
   "outputs": [
    {
     "name": "stderr",
     "output_type": "stream",
     "text": [
      "2025-01-22 18:31:16,350 - INFO - Initializing ImageNet dataset with root: /home/soroush1/projects/def-kohitij/soroush1/idiosyncrasy/imagenet, split: train, temp_extract: False\n",
      "2025-01-22 18:31:16,350 - INFO - Parsing archives...\n",
      "2025-01-22 18:31:16,350 - INFO - Checking for metadata file...\n",
      "2025-01-22 18:31:16,350 - INFO - Parsing devkit archive...\n",
      "2025-01-22 18:31:16,367 - INFO - Extracting devkit archive to temporary directory: /tmp/tmpf3mc_smb\n",
      "2025-01-22 18:31:16,470 - INFO - Parsing meta.mat file...\n",
      "2025-01-22 18:31:16,521 - INFO - Parsing validation ground truth...\n",
      "2025-01-22 18:31:16,530 - INFO - Saving parsed metadata...\n"
     ]
    },
    {
     "name": "stdout",
     "output_type": "stream",
     "text": [
      "****************************************************************************************************\n",
      "\n",
      "Batch size: 32\n",
      "****************************************************************************************************\n",
      "self.temp_extract: False\n"
     ]
    },
    {
     "name": "stderr",
     "output_type": "stream",
     "text": [
      "2025-01-22 18:31:16,730 - INFO - Checking for train folder...\n",
      "2025-01-22 18:31:16,731 - INFO - Parsing train archive...\n",
      "2025-01-22 18:31:16,731 - INFO - Parsing train archive...\n",
      "2025-01-22 18:31:16,731 - INFO - Verifying archive: ILSVRC2012_img_train.tar\n",
      "2025-01-22 18:31:16,732 - INFO - Checking integrity of file: /home/soroush1/projects/def-kohitij/soroush1/idiosyncrasy/imagenet/ILSVRC2012_img_train.tar\n",
      "2025-01-22 18:31:16,794 - INFO - Checking MD5 for file: /home/soroush1/projects/def-kohitij/soroush1/idiosyncrasy/imagenet/ILSVRC2012_img_train.tar\n",
      "2025-01-22 18:31:16,795 - INFO - Calculating MD5 for file: /home/soroush1/projects/def-kohitij/soroush1/idiosyncrasy/imagenet/ILSVRC2012_img_train.tar\n",
      "Calculating MD5: 141047it [03:38, 645.42it/s]\n",
      "2025-01-22 18:34:55,334 - INFO - Archive verification successful.\n",
      "2025-01-22 18:34:55,334 - INFO - Extracting train archive to: /localscratch/soroush1.39629038.0/data/train\n",
      "2025-01-22 18:36:01,625 - INFO - Extracting individual synset archives...\n",
      "Extracting synset archives: 1000it [08:32,  1.95it/s]\n",
      "2025-01-22 18:44:34,564 - INFO - Loading metadata...\n",
      "2025-01-22 18:44:34,565 - INFO - Loading metadata file...\n",
      "2025-01-22 18:44:34,565 - INFO - Checking integrity of file: /home/soroush1/projects/def-kohitij/soroush1/idiosyncrasy/imagenet/meta.bin\n",
      "2025-01-22 18:44:34,567 - INFO - No MD5 provided, skipping checksum verification.\n",
      "2025-01-22 18:44:34,567 - INFO - Metadata file found and integrity verified.\n",
      "/lustre06/project/6067616/soroush1/idiosyncrasy/cka_reg/datasets/_ImageNetDataset.py:134: FutureWarning: You are using `torch.load` with `weights_only=False` (the current default value), which uses the default pickle module implicitly. It is possible to construct malicious pickle data which will execute arbitrary code during unpickling (See https://github.com/pytorch/pytorch/blob/main/SECURITY.md#untrusted-models for more details). In a future release, the default value for `weights_only` will be flipped to `True`. This limits the functions that could be executed during unpickling. Arbitrary objects will no longer be allowed to be loaded via this mode unless they are explicitly allowlisted by the user via `torch.serialization.add_safe_globals`. We recommend you start setting `weights_only=True` for any use case where you don't have full control of the loaded file. Please open an issue on GitHub for any issues related to this experimental feature.\n",
      "  return torch.load(file)\n",
      "2025-01-22 18:44:34,667 - INFO - Initializing ImageFolder...\n",
      "2025-01-22 18:44:38,176 - INFO - Setting up class information...\n",
      "2025-01-22 18:44:38,177 - INFO - ImageNet initialization complete.\n",
      "2025-01-22 18:44:38,177 - INFO - Initializing ImageNet dataset with root: /home/soroush1/projects/def-kohitij/soroush1/idiosyncrasy/imagenet, split: val, temp_extract: False\n",
      "2025-01-22 18:44:38,178 - INFO - Parsing archives...\n",
      "2025-01-22 18:44:38,178 - INFO - Checking for metadata file...\n",
      "2025-01-22 18:44:38,178 - INFO - Parsing devkit archive...\n",
      "2025-01-22 18:44:38,179 - INFO - Extracting devkit archive to temporary directory: /tmp/tmpd0928018\n",
      "2025-01-22 18:44:38,320 - INFO - Parsing meta.mat file...\n",
      "2025-01-22 18:44:38,373 - INFO - Parsing validation ground truth...\n"
     ]
    },
    {
     "name": "stdout",
     "output_type": "stream",
     "text": [
      "self.temp_extract: False\n"
     ]
    },
    {
     "name": "stderr",
     "output_type": "stream",
     "text": [
      "2025-01-22 18:44:38,382 - INFO - Saving parsed metadata...\n",
      "2025-01-22 18:44:38,397 - INFO - Checking for val folder...\n",
      "2025-01-22 18:44:38,398 - INFO - Parsing validation archive...\n",
      "2025-01-22 18:44:38,398 - INFO - Parsing validation archive...\n",
      "2025-01-22 18:44:38,398 - INFO - Loading metadata file...\n",
      "2025-01-22 18:44:38,398 - INFO - Checking integrity of file: /home/soroush1/projects/def-kohitij/soroush1/idiosyncrasy/imagenet/meta.bin\n",
      "2025-01-22 18:44:38,399 - INFO - No MD5 provided, skipping checksum verification.\n",
      "2025-01-22 18:44:38,399 - INFO - Metadata file found and integrity verified.\n",
      "2025-01-22 18:44:38,403 - INFO - Verifying archive: ILSVRC2012_img_val.tar\n",
      "2025-01-22 18:44:38,403 - INFO - Checking integrity of file: /home/soroush1/projects/def-kohitij/soroush1/idiosyncrasy/imagenet/ILSVRC2012_img_val.tar\n",
      "2025-01-22 18:44:38,486 - INFO - Checking MD5 for file: /home/soroush1/projects/def-kohitij/soroush1/idiosyncrasy/imagenet/ILSVRC2012_img_val.tar\n",
      "2025-01-22 18:44:38,487 - INFO - Calculating MD5 for file: /home/soroush1/projects/def-kohitij/soroush1/idiosyncrasy/imagenet/ILSVRC2012_img_val.tar\n",
      "Calculating MD5: 6433it [00:10, 600.59it/s]\n",
      "2025-01-22 18:44:49,200 - INFO - Archive verification successful.\n",
      "2025-01-22 18:44:49,200 - INFO - Extracting validation archive to: /localscratch/soroush1.39629038.0/data/val\n",
      "2025-01-22 18:45:07,618 - INFO - Creating synset folders for validation images...\n",
      "Creating synset folders: 100%|██████████| 1000/1000 [00:00<00:00, 5362.70it/s]\n",
      "2025-01-22 18:45:07,808 - INFO - Moving validation images to their respective synset folders...\n",
      "Moving validation images: 50000it [00:06, 8213.39it/s]\n",
      "2025-01-22 18:45:13,899 - INFO - Loading metadata...\n",
      "2025-01-22 18:45:13,899 - INFO - Loading metadata file...\n",
      "2025-01-22 18:45:13,900 - INFO - Checking integrity of file: /home/soroush1/projects/def-kohitij/soroush1/idiosyncrasy/imagenet/meta.bin\n",
      "2025-01-22 18:45:13,900 - INFO - No MD5 provided, skipping checksum verification.\n",
      "2025-01-22 18:45:13,900 - INFO - Metadata file found and integrity verified.\n",
      "2025-01-22 18:45:13,905 - INFO - Initializing ImageFolder...\n",
      "2025-01-22 18:45:14,122 - INFO - Setting up class information...\n",
      "2025-01-22 18:45:14,123 - INFO - ImageNet initialization complete.\n",
      "2025-01-22 18:45:14,123 - INFO - Initializing ImageNet dataset with root: /home/soroush1/projects/def-kohitij/soroush1/idiosyncrasy/imagenet, split: val, temp_extract: False\n",
      "2025-01-22 18:45:14,123 - INFO - Parsing archives...\n",
      "2025-01-22 18:45:14,123 - INFO - Checking for metadata file...\n",
      "2025-01-22 18:45:14,124 - INFO - Parsing devkit archive...\n",
      "2025-01-22 18:45:14,124 - INFO - Extracting devkit archive to temporary directory: /tmp/tmpes_1ic15\n",
      "2025-01-22 18:45:14,159 - INFO - Parsing meta.mat file...\n",
      "2025-01-22 18:45:14,209 - INFO - Parsing validation ground truth...\n",
      "2025-01-22 18:45:14,218 - INFO - Saving parsed metadata...\n",
      "2025-01-22 18:45:14,232 - INFO - Checking for val folder...\n",
      "2025-01-22 18:45:14,233 - INFO - Loading metadata...\n",
      "2025-01-22 18:45:14,233 - INFO - Loading metadata file...\n",
      "2025-01-22 18:45:14,233 - INFO - Checking integrity of file: /home/soroush1/projects/def-kohitij/soroush1/idiosyncrasy/imagenet/meta.bin\n",
      "2025-01-22 18:45:14,234 - INFO - No MD5 provided, skipping checksum verification.\n",
      "2025-01-22 18:45:14,234 - INFO - Metadata file found and integrity verified.\n",
      "2025-01-22 18:45:14,239 - INFO - Initializing ImageFolder...\n"
     ]
    },
    {
     "name": "stdout",
     "output_type": "stream",
     "text": [
      "self.temp_extract: False\n"
     ]
    },
    {
     "name": "stderr",
     "output_type": "stream",
     "text": [
      "2025-01-22 18:45:14,451 - INFO - Setting up class information...\n",
      "2025-01-22 18:45:14,452 - INFO - ImageNet initialization complete.\n"
     ]
    },
    {
     "name": "stdout",
     "output_type": "stream",
     "text": [
      "Train dataset size: 1281167\n",
      "Validation dataset size: 50000\n"
     ]
    }
   ],
   "source": [
    "from argparse import Namespace\n",
    "\n",
    "# Define hyperparameters\n",
    "hparams = Namespace(\n",
    "    data_dir=\"/home/soroush1/projects/def-kohitij/soroush1/idiosyncrasy/imagenet\",\n",
    "    image_size=224,\n",
    "    batch_size=32,\n",
    "    num_workers=4,\n",
    "    temp_extract=False,\n",
    "    pin_memories=[False, False, False],  # [train, val, test]\n",
    ")\n",
    "\n",
    "# Create the DataModule\n",
    "data_module = ImagenetDataModule(hparams)\n",
    "\n",
    "# Prepare data and setup\n",
    "data_module.prepare_data()\n",
    "data_module.setup()"
   ]
  }
 ],
 "metadata": {
  "kernelspec": {
   "display_name": "Python 3 (ipykernel)",
   "language": "python",
   "name": "python3"
  },
  "language_info": {
   "codemirror_mode": {
    "name": "ipython",
    "version": 3
   },
   "file_extension": ".py",
   "mimetype": "text/x-python",
   "name": "python",
   "nbconvert_exporter": "python",
   "pygments_lexer": "ipython3",
   "version": "3.11.5"
  },
  "toc": {
   "base_numbering": 5
  }
 },
 "nbformat": 4,
 "nbformat_minor": 4
}
