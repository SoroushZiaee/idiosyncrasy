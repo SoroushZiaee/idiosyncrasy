{
 "cells": [
  {
   "cell_type": "code",
   "execution_count": 1,
   "metadata": {
    "editable": true,
    "slideshow": {
     "slide_type": ""
    },
    "tags": []
   },
   "outputs": [
    {
     "name": "stdout",
     "output_type": "stream",
     "text": [
      "Looking in links: /cvmfs/soft.computecanada.ca/custom/python/wheelhouse/gentoo2023/x86-64-v3, /cvmfs/soft.computecanada.ca/custom/python/wheelhouse/gentoo2023/generic, /cvmfs/soft.computecanada.ca/custom/python/wheelhouse/generic\n",
      "Processing /cvmfs/soft.computecanada.ca/custom/python/wheelhouse/generic/colorama-0.4.6+computecanada-py2.py3-none-any.whl\n",
      "Installing collected packages: colorama\n",
      "Successfully installed colorama-0.4.6+computecanada\n"
     ]
    }
   ],
   "source": [
    "!pip install --no-index colorama"
   ]
  },
  {
   "cell_type": "code",
   "execution_count": 2,
   "metadata": {},
   "outputs": [],
   "source": [
    "%load_ext autoreload\n",
    "%autoreload 2"
   ]
  },
  {
   "cell_type": "code",
   "execution_count": 3,
   "metadata": {
    "editable": true,
    "slideshow": {
     "slide_type": ""
    },
    "tags": []
   },
   "outputs": [
    {
     "name": "stdout",
     "output_type": "stream",
     "text": [
      "script_dir = '/lustre06/project/6067616/soroush1/idiosyncrasy/notebooks'\n",
      "parent_dir = '/lustre06/project/6067616/soroush1/idiosyncrasy'\n"
     ]
    },
    {
     "name": "stderr",
     "output_type": "stream",
     "text": [
      "2024-11-05 11:36:22,532 - INFO - ImageNet module loaded.\n"
     ]
    }
   ],
   "source": [
    "import sys\n",
    "import os\n",
    "\n",
    "# Add the parent directory to the Python path\n",
    "script_dir = os.path.dirname(os.getcwd())  # Get the directory where the script is located\n",
    "parent_dir = os.path.dirname(script_dir)  # Get the parent directory\n",
    "\n",
    "print(f\"{script_dir = }\")\n",
    "print(f\"{parent_dir = }\")\n",
    "\n",
    "sys.path.append(parent_dir)\n",
    "\n",
    "from cka_reg.datamodules.imagenet_datamodule import ImagenetDataModule"
   ]
  },
  {
   "cell_type": "code",
   "execution_count": 4,
   "metadata": {
    "editable": true,
    "slideshow": {
     "slide_type": "subslide"
    },
    "tags": []
   },
   "outputs": [
    {
     "name": "stderr",
     "output_type": "stream",
     "text": [
      "2024-11-05 11:36:23,877 - INFO - Initializing ImageNet dataset with root: /home/soroush1/projects/def-kohitij/soroush1/idiosyncrasy/imagenet, split: train, temp_extract: False\n",
      "2024-11-05 11:36:23,878 - INFO - Parsing archives...\n",
      "2024-11-05 11:36:23,878 - INFO - Checking for metadata file...\n",
      "2024-11-05 11:36:23,878 - INFO - Parsing devkit archive...\n",
      "2024-11-05 11:36:23,895 - INFO - Extracting devkit archive to temporary directory: /tmp/tmp6g7t1jhr\n"
     ]
    },
    {
     "name": "stdout",
     "output_type": "stream",
     "text": [
      "****************************************************************************************************\n",
      "\n",
      "Batch size: 32\n",
      "****************************************************************************************************\n",
      "self.temp_extract: False\n"
     ]
    },
    {
     "name": "stderr",
     "output_type": "stream",
     "text": [
      "2024-11-05 11:36:24,152 - INFO - Parsing meta.mat file...\n",
      "2024-11-05 11:36:24,204 - INFO - Parsing validation ground truth...\n",
      "2024-11-05 11:36:24,212 - INFO - Saving parsed metadata...\n",
      "2024-11-05 11:36:24,882 - INFO - Checking for train folder...\n",
      "2024-11-05 11:36:24,883 - INFO - Parsing train archive...\n",
      "2024-11-05 11:36:24,883 - INFO - Parsing train archive...\n",
      "2024-11-05 11:36:24,883 - INFO - Verifying archive: ILSVRC2012_img_train.tar\n",
      "2024-11-05 11:36:24,883 - INFO - Checking integrity of file: /home/soroush1/projects/def-kohitij/soroush1/idiosyncrasy/imagenet/ILSVRC2012_img_train.tar\n",
      "2024-11-05 11:36:24,945 - INFO - Checking MD5 for file: /home/soroush1/projects/def-kohitij/soroush1/idiosyncrasy/imagenet/ILSVRC2012_img_train.tar\n",
      "2024-11-05 11:36:24,946 - INFO - Calculating MD5 for file: /home/soroush1/projects/def-kohitij/soroush1/idiosyncrasy/imagenet/ILSVRC2012_img_train.tar\n",
      "Calculating MD5: 141047it [04:17, 548.22it/s]\n",
      "2024-11-05 11:40:42,229 - INFO - Archive verification successful.\n",
      "2024-11-05 11:40:42,230 - INFO - Extracting train archive to: /localscratch/soroush1.36629823.0/data/train\n",
      "2024-11-05 11:42:20,084 - INFO - Extracting individual synset archives...\n",
      "Extracting synset archives: 1000it [07:07,  2.34it/s]\n",
      "2024-11-05 11:49:27,111 - INFO - Loading metadata...\n",
      "2024-11-05 11:49:27,111 - INFO - Loading metadata file...\n",
      "2024-11-05 11:49:27,111 - INFO - Checking integrity of file: /home/soroush1/projects/def-kohitij/soroush1/idiosyncrasy/imagenet/meta.bin\n",
      "2024-11-05 11:49:27,114 - INFO - No MD5 provided, skipping checksum verification.\n",
      "2024-11-05 11:49:27,114 - INFO - Metadata file found and integrity verified.\n",
      "/lustre06/project/6067616/soroush1/idiosyncrasy/cka_reg/datasets/_ImageNetDataset.py:134: FutureWarning: You are using `torch.load` with `weights_only=False` (the current default value), which uses the default pickle module implicitly. It is possible to construct malicious pickle data which will execute arbitrary code during unpickling (See https://github.com/pytorch/pytorch/blob/main/SECURITY.md#untrusted-models for more details). In a future release, the default value for `weights_only` will be flipped to `True`. This limits the functions that could be executed during unpickling. Arbitrary objects will no longer be allowed to be loaded via this mode unless they are explicitly allowlisted by the user via `torch.serialization.add_safe_globals`. We recommend you start setting `weights_only=True` for any use case where you don't have full control of the loaded file. Please open an issue on GitHub for any issues related to this experimental feature.\n",
      "  return torch.load(file)\n",
      "2024-11-05 11:49:27,146 - INFO - Initializing ImageFolder...\n",
      "2024-11-05 11:49:30,925 - INFO - Setting up class information...\n",
      "2024-11-05 11:49:30,926 - INFO - ImageNet initialization complete.\n",
      "2024-11-05 11:49:30,927 - INFO - Initializing ImageNet dataset with root: /home/soroush1/projects/def-kohitij/soroush1/idiosyncrasy/imagenet, split: val, temp_extract: False\n",
      "2024-11-05 11:49:30,928 - INFO - Parsing archives...\n",
      "2024-11-05 11:49:30,928 - INFO - Checking for metadata file...\n",
      "2024-11-05 11:49:30,928 - INFO - Parsing devkit archive...\n",
      "2024-11-05 11:49:30,929 - INFO - Extracting devkit archive to temporary directory: /tmp/tmp910z3lmp\n",
      "2024-11-05 11:49:31,005 - INFO - Parsing meta.mat file...\n",
      "2024-11-05 11:49:31,060 - INFO - Parsing validation ground truth...\n",
      "2024-11-05 11:49:31,070 - INFO - Saving parsed metadata...\n",
      "2024-11-05 11:49:31,102 - INFO - Checking for val folder...\n",
      "2024-11-05 11:49:31,103 - INFO - Parsing validation archive...\n",
      "2024-11-05 11:49:31,103 - INFO - Parsing validation archive...\n",
      "2024-11-05 11:49:31,103 - INFO - Loading metadata file...\n",
      "2024-11-05 11:49:31,103 - INFO - Checking integrity of file: /home/soroush1/projects/def-kohitij/soroush1/idiosyncrasy/imagenet/meta.bin\n",
      "2024-11-05 11:49:31,104 - INFO - No MD5 provided, skipping checksum verification.\n",
      "2024-11-05 11:49:31,104 - INFO - Metadata file found and integrity verified.\n",
      "2024-11-05 11:49:31,108 - INFO - Verifying archive: ILSVRC2012_img_val.tar\n",
      "2024-11-05 11:49:31,109 - INFO - Checking integrity of file: /home/soroush1/projects/def-kohitij/soroush1/idiosyncrasy/imagenet/ILSVRC2012_img_val.tar\n"
     ]
    },
    {
     "name": "stdout",
     "output_type": "stream",
     "text": [
      "self.temp_extract: False\n"
     ]
    },
    {
     "name": "stderr",
     "output_type": "stream",
     "text": [
      "2024-11-05 11:49:31,206 - INFO - Checking MD5 for file: /home/soroush1/projects/def-kohitij/soroush1/idiosyncrasy/imagenet/ILSVRC2012_img_val.tar\n",
      "2024-11-05 11:49:31,206 - INFO - Calculating MD5 for file: /home/soroush1/projects/def-kohitij/soroush1/idiosyncrasy/imagenet/ILSVRC2012_img_val.tar\n",
      "Calculating MD5: 6433it [00:10, 596.33it/s]\n",
      "2024-11-05 11:49:41,996 - INFO - Archive verification successful.\n",
      "2024-11-05 11:49:41,996 - INFO - Extracting validation archive to: /localscratch/soroush1.36629823.0/data/val\n",
      "2024-11-05 11:49:59,304 - INFO - Creating synset folders for validation images...\n",
      "Creating synset folders: 100%|██████████| 1000/1000 [00:00<00:00, 5827.83it/s]\n",
      "2024-11-05 11:49:59,479 - INFO - Moving validation images to their respective synset folders...\n",
      "Moving validation images: 50000it [00:06, 8322.52it/s]\n",
      "2024-11-05 11:50:05,490 - INFO - Loading metadata...\n",
      "2024-11-05 11:50:05,490 - INFO - Loading metadata file...\n",
      "2024-11-05 11:50:05,491 - INFO - Checking integrity of file: /home/soroush1/projects/def-kohitij/soroush1/idiosyncrasy/imagenet/meta.bin\n",
      "2024-11-05 11:50:05,491 - INFO - No MD5 provided, skipping checksum verification.\n",
      "2024-11-05 11:50:05,491 - INFO - Metadata file found and integrity verified.\n",
      "2024-11-05 11:50:05,496 - INFO - Initializing ImageFolder...\n",
      "2024-11-05 11:50:05,665 - INFO - Setting up class information...\n",
      "2024-11-05 11:50:05,666 - INFO - ImageNet initialization complete.\n",
      "2024-11-05 11:50:05,667 - INFO - Initializing ImageNet dataset with root: /home/soroush1/projects/def-kohitij/soroush1/idiosyncrasy/imagenet, split: val, temp_extract: False\n",
      "2024-11-05 11:50:05,667 - INFO - Parsing archives...\n",
      "2024-11-05 11:50:05,667 - INFO - Checking for metadata file...\n",
      "2024-11-05 11:50:05,667 - INFO - Parsing devkit archive...\n",
      "2024-11-05 11:50:05,668 - INFO - Extracting devkit archive to temporary directory: /tmp/tmp6zeqca2m\n",
      "2024-11-05 11:50:05,699 - INFO - Parsing meta.mat file...\n",
      "2024-11-05 11:50:05,750 - INFO - Parsing validation ground truth...\n",
      "2024-11-05 11:50:05,759 - INFO - Saving parsed metadata...\n",
      "2024-11-05 11:50:05,772 - INFO - Checking for val folder...\n",
      "2024-11-05 11:50:05,773 - INFO - Loading metadata...\n",
      "2024-11-05 11:50:05,773 - INFO - Loading metadata file...\n",
      "2024-11-05 11:50:05,774 - INFO - Checking integrity of file: /home/soroush1/projects/def-kohitij/soroush1/idiosyncrasy/imagenet/meta.bin\n",
      "2024-11-05 11:50:05,775 - INFO - No MD5 provided, skipping checksum verification.\n",
      "2024-11-05 11:50:05,775 - INFO - Metadata file found and integrity verified.\n",
      "2024-11-05 11:50:05,779 - INFO - Initializing ImageFolder...\n"
     ]
    },
    {
     "name": "stdout",
     "output_type": "stream",
     "text": [
      "self.temp_extract: False\n"
     ]
    },
    {
     "name": "stderr",
     "output_type": "stream",
     "text": [
      "2024-11-05 11:50:05,937 - INFO - Setting up class information...\n",
      "2024-11-05 11:50:05,937 - INFO - ImageNet initialization complete.\n"
     ]
    },
    {
     "name": "stdout",
     "output_type": "stream",
     "text": [
      "Train dataset size: 1281167\n",
      "Validation dataset size: 50000\n"
     ]
    }
   ],
   "source": [
    "from argparse import Namespace\n",
    "\n",
    "# Define hyperparameters\n",
    "hparams = Namespace(\n",
    "    data_dir=\"/home/soroush1/projects/def-kohitij/soroush1/idiosyncrasy/imagenet\",\n",
    "    image_size=224,\n",
    "    batch_size=32,\n",
    "    num_workers=4,\n",
    "    temp_extract=False,\n",
    "    pin_memories=[False, False, False],  # [train, val, test]\n",
    ")\n",
    "\n",
    "# Create the DataModule\n",
    "data_module = ImagenetDataModule(hparams)\n",
    "\n",
    "# Prepare data and setup\n",
    "data_module.prepare_data()\n",
    "data_module.setup()"
   ]
  },
  {
   "cell_type": "code",
   "execution_count": null,
   "metadata": {},
   "outputs": [],
   "source": []
  },
  {
   "cell_type": "code",
   "execution_count": null,
   "metadata": {},
   "outputs": [],
   "source": []
  },
  {
   "cell_type": "code",
   "execution_count": null,
   "metadata": {},
   "outputs": [],
   "source": []
  }
 ],
 "metadata": {
  "kernelspec": {
   "display_name": "Python 3 (ipykernel)",
   "language": "python",
   "name": "python3"
  },
  "language_info": {
   "codemirror_mode": {
    "name": "ipython",
    "version": 3
   },
   "file_extension": ".py",
   "mimetype": "text/x-python",
   "name": "python",
   "nbconvert_exporter": "python",
   "pygments_lexer": "ipython3",
   "version": "3.11.5"
  },
  "toc": {
   "base_numbering": 5
  }
 },
 "nbformat": 4,
 "nbformat_minor": 4
}
