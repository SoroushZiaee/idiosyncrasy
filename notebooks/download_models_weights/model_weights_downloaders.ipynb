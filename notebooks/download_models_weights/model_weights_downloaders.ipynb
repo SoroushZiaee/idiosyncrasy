{
 "cells": [
  {
   "cell_type": "code",
   "execution_count": 1,
   "metadata": {},
   "outputs": [],
   "source": [
    "import torch\n",
    "import torch.nn as nn\n",
    "from torchvision import models"
   ]
  },
  {
   "cell_type": "code",
   "execution_count": 4,
   "metadata": {},
   "outputs": [
    {
     "name": "stderr",
     "output_type": "stream",
     "text": [
      "Downloading: \"https://download.pytorch.org/models/resnet50-19c8e357.pth\" to /home/soroush1/.cache/torch/hub/checkpoints/resnet50-19c8e357.pth\n",
      "100%|██████████| 97.8M/97.8M [00:01<00:00, 74.9MB/s]\n"
     ]
    }
   ],
   "source": [
    "resnet50 = models.resnet50(pretrained=True)"
   ]
  },
  {
   "cell_type": "code",
   "execution_count": 7,
   "metadata": {},
   "outputs": [],
   "source": [
    "!cp /home/soroush1/.cache/torch/hub/checkpoints/resnet50-19c8e357.pth /home/soroush1/projects/def-kohitij/soroush1/idiosyncrasy/notebooks/experiments/select_appropiate_timebins_check_inner_neural_consistency/weights\n",
    "!mv /home/soroush1/projects/def-kohitij/soroush1/idiosyncrasy/notebooks/experiments/select_appropiate_timebins_check_inner_neural_consistency/weights/resnet50-19c8e357.pth /home/soroush1/projects/def-kohitij/soroush1/idiosyncrasy/notebooks/experiments/select_appropiate_timebins_check_inner_neural_consistency/weights/resnet50.pth"
   ]
  }
 ],
 "metadata": {
  "kernelspec": {
   "display_name": "jupyter_env",
   "language": "python",
   "name": "python3"
  },
  "language_info": {
   "codemirror_mode": {
    "name": "ipython",
    "version": 3
   },
   "file_extension": ".py",
   "mimetype": "text/x-python",
   "name": "python",
   "nbconvert_exporter": "python",
   "pygments_lexer": "ipython3",
   "version": "3.10.13"
  }
 },
 "nbformat": 4,
 "nbformat_minor": 2
}
