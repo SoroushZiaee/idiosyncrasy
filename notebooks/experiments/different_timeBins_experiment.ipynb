{
 "cells": [
  {
   "cell_type": "code",
   "execution_count": 2,
   "id": "d0e521c5-dfd1-4afc-94ee-ef4c3366ddf2",
   "metadata": {},
   "outputs": [
    {
     "name": "stdout",
     "output_type": "stream",
     "text": [
      "script_dir = '/lustre06/project/6067616/soroush1/idiosyncrasy/notebooks'\n",
      "parent_dir = '/lustre06/project/6067616/soroush1/idiosyncrasy'\n"
     ]
    }
   ],
   "source": [
    "import sys\n",
    "import os\n",
    "\n",
    "# Add the parent directory to the Python path\n",
    "script_dir = os.path.dirname(os.getcwd())  # Get the directory where the script is located\n",
    "parent_dir = os.path.dirname(script_dir)  # Get the parent directory\n",
    "\n",
    "print(f\"{script_dir = }\")\n",
    "print(f\"{parent_dir = }\")\n",
    "\n",
    "if parent_dir not in sys.path:\n",
    "    sys.path.append(parent_dir)"
   ]
  },
  {
   "cell_type": "code",
   "execution_count": 3,
   "id": "c7c5d2d0-2616-4477-a83d-8c215fb81d45",
   "metadata": {},
   "outputs": [
    {
     "name": "stderr",
     "output_type": "stream",
     "text": [
      "2025-01-16 02:01:58,826 - INFO - ImageNet module loaded.\n"
     ]
    }
   ],
   "source": [
    "import os, glob, argparse, random\n",
    "from pprint import pprint\n",
    "\n",
    "import torch as ch\n",
    "from lightning.pytorch import Trainer, seed_everything, Callback\n",
    "from lightning.pytorch.callbacks import (\n",
    "    EarlyStopping,\n",
    "    ModelCheckpoint,\n",
    "    LearningRateMonitor,\n",
    ")\n",
    "from lightning.pytorch.loggers import TensorBoardLogger\n",
    "\n",
    "# Datasets\n",
    "from cka_reg.datamodules import DATAMODULES\n",
    "from cka_reg.datamodules.neural_datamodule import SOURCES as NEURAL_SOURCES\n",
    "\n",
    "# Models\n",
    "from cka_reg.model_lightning import Model_Lightning as MODEL\n",
    "\n",
    "# Metrics & Behavioral Metrics\n",
    "from cka_reg.benchmarks import list_brainscore_benchmarks, list_behavior_benchmarks\n",
    "\n",
    "from cka_reg import PROJECT_ROOT"
   ]
  },
  {
   "cell_type": "code",
   "execution_count": null,
   "id": "11103913-256b-4d67-9517-1ad38fc1711f",
   "metadata": {},
   "outputs": [],
   "source": []
  },
  {
   "cell_type": "code",
   "execution_count": null,
   "id": "fe79dc10-0667-40c4-a329-3f910febb6e8",
   "metadata": {},
   "outputs": [],
   "source": []
  }
 ],
 "metadata": {
  "kernelspec": {
   "display_name": "Python 3 (ipykernel)",
   "language": "python",
   "name": "python3"
  },
  "language_info": {
   "codemirror_mode": {
    "name": "ipython",
    "version": 3
   },
   "file_extension": ".py",
   "mimetype": "text/x-python",
   "name": "python",
   "nbconvert_exporter": "python",
   "pygments_lexer": "ipython3",
   "version": "3.11.5"
  }
 },
 "nbformat": 4,
 "nbformat_minor": 5
}
