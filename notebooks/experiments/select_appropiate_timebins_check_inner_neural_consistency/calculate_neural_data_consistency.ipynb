{
 "cells": [
  {
   "cell_type": "code",
   "execution_count": 18,
   "metadata": {},
   "outputs": [],
   "source": [
    "import pandas as pd\n",
    "import numpy as np\n",
    "import os\n",
    "import scipy\n",
    "import matplotlib.pyplot as plt\n",
    "\n",
    "from sklearn.model_selection import train_test_split"
   ]
  },
  {
   "cell_type": "code",
   "execution_count": 3,
   "metadata": {},
   "outputs": [
    {
     "data": {
      "text/plain": [
       "(660,)"
      ]
     },
     "execution_count": 3,
     "metadata": {},
     "output_type": "execute_result"
    }
   ],
   "source": [
    "# First load test indices\n",
    "df = pd.read_csv('/scratch/soroush1/memorability/muri1320/test.csv')\n",
    "test_indices = df.values.flatten()\n",
    "test_indices.shape"
   ]
  },
  {
   "cell_type": "code",
   "execution_count": 4,
   "metadata": {},
   "outputs": [
    {
     "name": "stdout",
     "output_type": "stream",
     "text": [
      "list(f.keys()) = ['magneto']\n",
      "magneto <class 'h5py._hl.group.Group'>\n",
      "  active\n",
      "magneto/active <class 'h5py._hl.dataset.Dataset'>\n",
      "Dataset shape: (26, 1320, 288, 70)\n"
     ]
    }
   ],
   "source": [
    "# load neural data\n",
    "# How to read the .h5 file\n",
    "import h5py\n",
    "\n",
    "neural_type = \"active\"\n",
    "\n",
    "neural_data_path = f\"/scratch/soroush1/idiosyncrasy/neural_data/rates_magneto_{neural_type}.h5\"\n",
    "monkey_name = f\"magneto/{neural_type}\"\n",
    "monkey_data = None\n",
    "\n",
    "with h5py.File(neural_data_path, 'r') as f:\n",
    "    print(f\"{list(f.keys()) = }\")\n",
    "    # Print structure of the data\n",
    "    def print_structure(name, obj):\n",
    "        print(name, type(obj))\n",
    "        if isinstance(obj, h5py.Group):\n",
    "            for key in obj.keys():\n",
    "                print(f\"  {key}\")\n",
    "    \n",
    "    f.visititems(print_structure)\n",
    "    \n",
    "    # Get the data\n",
    "    monkey_data = f[monkey_name][:]\n",
    "    time, images, neural_sites, reps = monkey_data.shape\n",
    "    print(\"Dataset shape:\", monkey_data.shape) # time images neural-sites reps"
   ]
  },
  {
   "cell_type": "code",
   "execution_count": 5,
   "metadata": {},
   "outputs": [],
   "source": [
    "# load train and test indices\n",
    "train_neural_indices = np.load('meta/train_neural_indices.npy')\n",
    "test_neural_indices = np.load('meta/test_neural_indices.npy')\n",
    "\n",
    "# select only the test indices & test neural data\n",
    "neural_data = monkey_data[:, test_indices, :, :]\n",
    "neural_data = neural_data[:, :, test_neural_indices, :]\n",
    "\n",
    "# select only the time between 70 to 170 ms\n",
    "neural_data = np.nanmean(neural_data[7:17, :, :, :], axis=0)\n",
    "\n",
    "assert neural_data.shape == (660, 144, 70) # 660 images, 144 neural sites, 70 reps"
   ]
  },
  {
   "cell_type": "code",
   "execution_count": 6,
   "metadata": {},
   "outputs": [
    {
     "data": {
      "text/plain": [
       "(660, 144, 70)"
      ]
     },
     "execution_count": 6,
     "metadata": {},
     "output_type": "execute_result"
    }
   ],
   "source": [
    "neural_data.shape"
   ]
  },
  {
   "cell_type": "code",
   "execution_count": 19,
   "metadata": {},
   "outputs": [
    {
     "data": {
      "text/plain": [
       "((144,), (144,))"
      ]
     },
     "execution_count": 19,
     "metadata": {},
     "output_type": "execute_result"
    }
   ],
   "source": [
    "# create a folder in this directory to store the indices of neural sites\n",
    "# train_neural_indices, test_neural_indices = train_test_split(np.arange(neural_sites), test_size=0.5, random_state=42)\n",
    "# train_neural_indices.shape, test_neural_indices.shape"
   ]
  },
  {
   "cell_type": "code",
   "execution_count": 27,
   "metadata": {},
   "outputs": [],
   "source": [
    "# Here we're calculating the within neuron cka reliability \n",
    "\n",
    "import math\n",
    "import torch\n",
    "import numpy as np\n",
    "\n",
    "class CKA(object):\n",
    "    def __init__(self):\n",
    "        pass \n",
    "    \n",
    "    def centering(self, K):\n",
    "        n = K.shape[0]\n",
    "        unit = np.ones([n, n])\n",
    "        I = np.eye(n)\n",
    "        H = I - unit / n\n",
    "        return np.dot(np.dot(H, K), H) \n",
    "\n",
    "    def rbf(self, X, sigma=None):\n",
    "        GX = np.dot(X, X.T)\n",
    "        KX = np.diag(GX) - GX + (np.diag(GX) - GX).T\n",
    "        if sigma is None:\n",
    "            mdist = np.median(KX[KX != 0])\n",
    "            sigma = math.sqrt(mdist)\n",
    "        KX *= - 0.5 / (sigma * sigma)\n",
    "        KX = np.exp(KX)\n",
    "        return KX\n",
    " \n",
    "    def kernel_HSIC(self, X, Y, sigma):\n",
    "        return np.sum(self.centering(self.rbf(X, sigma)) * self.centering(self.rbf(Y, sigma)))\n",
    "\n",
    "    def linear_HSIC(self, X, Y):\n",
    "        L_X = X @ X.T\n",
    "        L_Y = Y @ Y.T\n",
    "        return np.sum(self.centering(L_X) * self.centering(L_Y))\n",
    "\n",
    "    def linear_CKA(self, X, Y):\n",
    "        hsic = self.linear_HSIC(X, Y)\n",
    "        var1 = np.sqrt(self.linear_HSIC(X, X))\n",
    "        var2 = np.sqrt(self.linear_HSIC(Y, Y))\n",
    "\n",
    "        return hsic / (var1 * var2)\n",
    "\n",
    "    def kernel_CKA(self, X, Y, sigma=None):\n",
    "        hsic = self.kernel_HSIC(X, Y, sigma)\n",
    "        var1 = np.sqrt(self.kernel_HSIC(X, X, sigma))\n",
    "        var2 = np.sqrt(self.kernel_HSIC(Y, Y, sigma))\n",
    "\n",
    "        return hsic / (var1 * var2)\n",
    "\n",
    "def cka_reliability(data, runs=20):\n",
    "    \"\"\"\n",
    "    Calculate reliability of CKA between split halves of the data\n",
    "    \n",
    "    Args:\n",
    "        data: numpy array of shape (n_images, n_neurons, n_trials)\n",
    "        runs: number of random splits to perform\n",
    "        \n",
    "    Returns:\n",
    "        mean and std of CKA reliability scores\n",
    "    \"\"\"\n",
    "    cka = CKA()\n",
    "    reliability_scores = np.empty(runs)\n",
    "    \n",
    "    for run in range(runs):\n",
    "        # Randomly split trials into two halves\n",
    "        np.random.seed(run)\n",
    "        trial_indices = np.random.permutation(data.shape[2])\n",
    "        split = data.shape[2] // 2\n",
    "        \n",
    "        # Get the two halves and take mean across trials\n",
    "        first_half = np.mean(data[:, :, trial_indices[:split]], axis=2)  # (660, 144)\n",
    "        second_half = np.mean(data[:, :, trial_indices[split:]], axis=2)  # (660, 144)\n",
    "        \n",
    "        # Calculate CKA between the two halves\n",
    "        reliability_scores[run] = cka.linear_CKA(first_half, second_half)\n",
    "    \n",
    "    mean_reliability = np.mean(reliability_scores)\n",
    "    std_reliability = np.std(reliability_scores)\n",
    "    \n",
    "    return mean_reliability, std_reliability"
   ]
  },
  {
   "cell_type": "code",
   "execution_count": 31,
   "metadata": {},
   "outputs": [
    {
     "name": "stdout",
     "output_type": "stream",
     "text": [
      "0.852907549719863 +/- 0.005225965385560575\n"
     ]
    }
   ],
   "source": [
    "mean_rel, std_rel = cka_reliability(neural_data, runs=5)\n",
    "print(f\"{mean_rel} +/- {std_rel}\")"
   ]
  },
  {
   "cell_type": "code",
   "execution_count": 34,
   "metadata": {},
   "outputs": [
    {
     "data": {
      "image/png": "[encoded data removed]",
      "text/plain": [
       "<Figure size 1000x600 with 1 Axes>"
      ]
     },
     "metadata": {},
     "output_type": "display_data"
    }
   ],
   "source": [
    "plt.figure(figsize=(10, 6))\n",
    "plt.bar([0], [mean_rel], yerr=[std_rel], \n",
    "        error_kw=dict(ecolor='grey', alpha=0.2, capsize=5),\n",
    "        width=0.5,\n",
    "        color='blue',\n",
    "        alpha=0.6)\n",
    "\n",
    "plt.title('CKA Reliability across Split Halves (70-170 ms)')\n",
    "plt.ylabel('CKA Score')\n",
    "plt.ylim(0, 1)  # CKA values range from 0 to 1\n",
    "\n",
    "# Remove x-axis labels since we only have one bar\n",
    "plt.xticks([])\n",
    "\n",
    "# Add grid for better readability\n",
    "plt.grid(True, axis='y', alpha=0.3)\n",
    "\n",
    "plt.tight_layout()"
   ]
  }
 ],
 "metadata": {
  "kernelspec": {
   "display_name": "Python 3 (ipykernel)",
   "language": "python",
   "name": "python3"
  },
  "language_info": {
   "codemirror_mode": {
    "name": "ipython",
    "version": 3
   },
   "file_extension": ".py",
   "mimetype": "text/x-python",
   "name": "python",
   "nbconvert_exporter": "python",
   "pygments_lexer": "ipython3",
   "version": "3.11.5"
  }
 },
 "nbformat": 4,
 "nbformat_minor": 4
}
