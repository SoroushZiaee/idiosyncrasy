{
 "cells": [
  {
   "cell_type": "code",
   "execution_count": 1,
   "id": "be74654b-3c74-4aff-bd24-0f0b6c005492",
   "metadata": {},
   "outputs": [],
   "source": [
    "import pandas as pd\n",
    "import numpy as np\n",
    "import os\n",
    "import scipy\n",
    "import matplotlib.pyplot as plt\n",
    "\n",
    "from sklearn.model_selection import train_test_split"
   ]
  },
  {
   "cell_type": "code",
   "execution_count": 2,
   "id": "80d1d7f5-fe7d-494a-9fc9-b60e01412d0d",
   "metadata": {},
   "outputs": [
    {
     "name": "stdout",
     "output_type": "stream",
     "text": [
      "list(f.keys()) = ['magneto']\n",
      "magneto <class 'h5py._hl.group.Group'>\n",
      "  active\n",
      "magneto/active <class 'h5py._hl.dataset.Dataset'>\n",
      "Dataset shape: (26, 1320, 288, 70)\n"
     ]
    }
   ],
   "source": [
    "# Load Neural Data\n",
    "\n",
    "# First load test indices\n",
    "df = pd.read_csv('/scratch/soroush1/memorability/muri1320/test.csv')\n",
    "test_indices = df.values.flatten()\n",
    "test_indices.shape\n",
    "\n",
    "# load neural data\n",
    "# How to read the .h5 file\n",
    "import h5py\n",
    "\n",
    "neural_type = \"active\"\n",
    "\n",
    "neural_data_path = f\"/scratch/soroush1/idiosyncrasy/neural_data/rates_magneto_{neural_type}.h5\"\n",
    "monkey_name = f\"magneto/{neural_type}\"\n",
    "monkey_data = None\n",
    "\n",
    "with h5py.File(neural_data_path, 'r') as f:\n",
    "    print(f\"{list(f.keys()) = }\")\n",
    "    # Print structure of the data\n",
    "    def print_structure(name, obj):\n",
    "        print(name, type(obj))\n",
    "        if isinstance(obj, h5py.Group):\n",
    "            for key in obj.keys():\n",
    "                print(f\"  {key}\")\n",
    "    \n",
    "    f.visititems(print_structure)\n",
    "    \n",
    "    # Get the data\n",
    "    monkey_data = f[monkey_name][:]\n",
    "    time, images, neural_sites, reps = monkey_data.shape\n",
    "    print(\"Dataset shape:\", monkey_data.shape) # time images neural-sites reps\n",
    "\n",
    "# load train and test indices\n",
    "train_neural_indices = np.load('meta/train_neural_indices.npy')\n",
    "test_neural_indices = np.load('meta/test_neural_indices.npy')\n",
    "\n",
    "# select only the test indices & test neural data\n",
    "neural_data = monkey_data[:, test_indices, :, :]\n",
    "neural_data = neural_data[:, :, test_neural_indices, :]\n",
    "\n",
    "# select only the time between 70 to 170 ms\n",
    "neural_data = np.nanmean(neural_data[7:17, :, :, :], axis=0)\n",
    "\n",
    "assert neural_data.shape == (660, 144, 70) # 660 images, 144 neural sites, 70 reps"
   ]
  },
  {
   "cell_type": "code",
   "execution_count": 3,
   "id": "fa705c79-5f33-4100-989e-b998b4f443c7",
   "metadata": {},
   "outputs": [
    {
     "name": "stdout",
     "output_type": "stream",
     "text": [
      "Saved features shape: (660, 65536)\n",
      "Saved labels shape: (660,)\n",
      "(660, 65536)\n"
     ]
    }
   ],
   "source": [
    "# Load model Feature\n",
    "# Verify saved features\n",
    "output_path = \"model_features/raw_resnet50_features.h5\"\n",
    "\n",
    "with h5py.File(output_path, 'r') as f:\n",
    "    print(\"Saved features shape:\", f['features'].shape)\n",
    "    print(\"Saved labels shape:\", f['labels'].shape)\n",
    "\n",
    "    model_features = f['features'][:]\n",
    "\n",
    "print(f\"{model_features.shape}\")"
   ]
  },
  {
   "cell_type": "code",
   "execution_count": 4,
   "id": "da4dee16-60f9-4936-a00d-4758c49c6e5a",
   "metadata": {},
   "outputs": [],
   "source": [
    "import math\n",
    "import torch\n",
    "import numpy as np\n",
    "\n",
    "class CKA(object):\n",
    "    def __init__(self):\n",
    "        pass \n",
    "    \n",
    "    def centering(self, K):\n",
    "        n = K.shape[0]\n",
    "        unit = np.ones([n, n])\n",
    "        I = np.eye(n)\n",
    "        H = I - unit / n\n",
    "        return np.dot(np.dot(H, K), H) \n",
    "\n",
    "    def rbf(self, X, sigma=None):\n",
    "        GX = np.dot(X, X.T)\n",
    "        KX = np.diag(GX) - GX + (np.diag(GX) - GX).T\n",
    "        if sigma is None:\n",
    "            mdist = np.median(KX[KX != 0])\n",
    "            sigma = math.sqrt(mdist)\n",
    "        KX *= - 0.5 / (sigma * sigma)\n",
    "        KX = np.exp(KX)\n",
    "        return KX\n",
    " \n",
    "    def kernel_HSIC(self, X, Y, sigma):\n",
    "        return np.sum(self.centering(self.rbf(X, sigma)) * self.centering(self.rbf(Y, sigma)))\n",
    "\n",
    "    def linear_HSIC(self, X, Y):\n",
    "        L_X = X @ X.T\n",
    "        L_Y = Y @ Y.T\n",
    "        return np.sum(self.centering(L_X) * self.centering(L_Y))\n",
    "\n",
    "    def linear_CKA(self, X, Y):\n",
    "        hsic = self.linear_HSIC(X, Y)\n",
    "        var1 = np.sqrt(self.linear_HSIC(X, X))\n",
    "        var2 = np.sqrt(self.linear_HSIC(Y, Y))\n",
    "\n",
    "        return hsic / (var1 * var2)\n",
    "\n",
    "    def kernel_CKA(self, X, Y, sigma=None):\n",
    "        hsic = self.kernel_HSIC(X, Y, sigma)\n",
    "        var1 = np.sqrt(self.kernel_HSIC(X, X, sigma))\n",
    "        var2 = np.sqrt(self.kernel_HSIC(Y, Y, sigma))\n",
    "\n",
    "        return hsic / (var1 * var2)"
   ]
  },
  {
   "cell_type": "code",
   "execution_count": 5,
   "id": "e996e712-1840-4a57-b207-82857c724eb8",
   "metadata": {},
   "outputs": [
    {
     "data": {
      "text/plain": [
       "(660, 144, 70)"
      ]
     },
     "execution_count": 5,
     "metadata": {},
     "output_type": "execute_result"
    }
   ],
   "source": [
    "neural_data.shape"
   ]
  },
  {
   "cell_type": "code",
   "execution_count": 6,
   "id": "16123b61-4299-431e-9089-a8e30125194d",
   "metadata": {},
   "outputs": [
    {
     "data": {
      "text/plain": [
       "0.41510949557566984"
      ]
     },
     "execution_count": 6,
     "metadata": {},
     "output_type": "execute_result"
    }
   ],
   "source": [
    "cka = CKA()\n",
    "cka_similarity = cka.linear_CKA(model_features, np.nanmean(neural_data, axis=2))\n",
    "\n",
    "cka_similarity"
   ]
  }
 ],
 "metadata": {
  "kernelspec": {
   "display_name": "Python 3 (ipykernel)",
   "language": "python",
   "name": "python3"
  },
  "language_info": {
   "codemirror_mode": {
    "name": "ipython",
    "version": 3
   },
   "file_extension": ".py",
   "mimetype": "text/x-python",
   "name": "python",
   "nbconvert_exporter": "python",
   "pygments_lexer": "ipython3",
   "version": "3.11.5"
  }
 },
 "nbformat": 4,
 "nbformat_minor": 5
}
